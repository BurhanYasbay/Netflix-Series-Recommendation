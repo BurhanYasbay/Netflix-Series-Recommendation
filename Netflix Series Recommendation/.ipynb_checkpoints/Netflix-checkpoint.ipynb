{
 "cells": [
  {
   "cell_type": "markdown",
   "id": "7c9b0f3a",
   "metadata": {},
   "source": [
    "- Sayı ismi alma\n",
    "- pip install number-names\n",
    "- import number_names\n",
    "- number_names.name(0)\n",
    "- 'zero'"
   ]
  },
  {
   "cell_type": "markdown",
   "id": "10e8eb22",
   "metadata": {},
   "source": [
    "## Kütüphaneler"
   ]
  },
  {
   "cell_type": "code",
   "execution_count": 1,
   "id": "e81af6b4",
   "metadata": {},
   "outputs": [],
   "source": [
    "import pandas as pd\n",
    "\n",
    "from bs4 import BeautifulSoup\n",
    "import requests"
   ]
  },
  {
   "cell_type": "markdown",
   "id": "f1f4c6a7",
   "metadata": {},
   "source": [
    "## Link Alma"
   ]
  },
  {
   "cell_type": "markdown",
   "id": "d1888445",
   "metadata": {},
   "source": [
    "### Ana sayfadan toplam kaç adet sayfa olduğunu bulma"
   ]
  },
  {
   "cell_type": "code",
   "execution_count": 2,
   "id": "227ae397",
   "metadata": {},
   "outputs": [],
   "source": [
    "url = \"https://www.netflixtvseries.com/netflix-originals-tv-series\"\n",
    "first_page = requests.get(url)\n",
    "soup = BeautifulSoup(first_page.text, 'html')"
   ]
  },
  {
   "cell_type": "code",
   "execution_count": 3,
   "id": "82a8eb79",
   "metadata": {},
   "outputs": [],
   "source": [
    "find_number = soup.find('div',class_ = 'pagination pagination-lg')\n",
    "max_page = find_number.text.replace('\\n','').replace('»','')[-2:]"
   ]
  },
  {
   "cell_type": "markdown",
   "id": "9c47df3f",
   "metadata": {},
   "source": [
    "### Bütün sayfaları tek tek gezerek linkleri alma"
   ]
  },
  {
   "cell_type": "code",
   "execution_count": 4,
   "id": "0ab356a5",
   "metadata": {},
   "outputs": [],
   "source": [
    "#pc kasmasın diye en fazla sayfa sayısını 2 olarak aldım en sonda değiecek bu\n",
    "max_page = \"1\""
   ]
  },
  {
   "cell_type": "code",
   "execution_count": 5,
   "id": "b32bc6cf",
   "metadata": {},
   "outputs": [],
   "source": [
    "links = links = pd.DataFrame(columns = ['link'])\n",
    "for i in range (1,int(max_page)+1):\n",
    "\n",
    "    url = \"https://www.netflixtvseries.com/netflix-originals-tv-series/\"+str(i)\n",
    "        \n",
    "    page = requests.get(url)\n",
    "    soup = BeautifulSoup(page.text, 'html')\n",
    "    \n",
    "    grids = soup.find_all('div',class_ = 'gridinfo')\n",
    "    for link in grids:\n",
    "        length = len(links)\n",
    "        #Link Alma\n",
    "        link = link.find('a',href = True)['href'] # i.find('a',href = True).text filmin adını verir\n",
    "        #print(link)\n",
    "        links.loc[length] = link"
   ]
  },
  {
   "cell_type": "markdown",
   "id": "c67013f3",
   "metadata": {},
   "source": [
    "## Data Çekme"
   ]
  },
  {
   "cell_type": "code",
   "execution_count": 18,
   "id": "7069e8a0",
   "metadata": {},
   "outputs": [],
   "source": [
    "def get_data(url): \n",
    "    \n",
    "    d = {'title':'unknown','stock':'unknown','genre':'unknown','creator':'unknown','first air date':'unknown','last air date':'unknown','total seasons':'unknown','total episodes':'unknown','status':'unknown','episode runtime':'unknown','production company':'unknown', 'production country':'unknown', 'networks':'unknown','image path':'unknown','description':'unknown','keywords':'unknown'}    \n",
    "    new_page = requests.get(url)\n",
    "    new_soup = BeautifulSoup(new_page.text,'html')\n",
    "    \n",
    "    #getting general informations\n",
    "    tv = new_soup.find('div',class_ = 'headpageinfo')\n",
    "    \n",
    "    title = tv.find('h1',class_ = 'product-title').text\n",
    "    print(title)\n",
    "    try:\n",
    "        stock = tv.find('h2',class_ = 'product-stock').text\n",
    "    except:\n",
    "        stock = 'unknown'\n",
    "    \n",
    "    d['title'] = title\n",
    "    d['stock'] = stock\n",
    "    \n",
    "    \n",
    "    data = tv.find_all('li')\n",
    "    \n",
    "    for i in data:\n",
    "        if 'Director' not in i.text:\n",
    "            i = i.text.replace('\\n','').replace('\\t','').replace('\\r','')\n",
    "            d[i.split(':')[0].lower()] = i.split(':')[1].replace(':','').strip()\n",
    "    \n",
    "    #getting image path\n",
    "    img = new_soup.find('div',class_ = 'headpageimage')\n",
    "    image = img.find('img')\n",
    "    image = image['data-src']\n",
    "    d['image path'] = image\n",
    "    \n",
    "    #getting description and keywords\n",
    "    postmain = new_soup.find('div',class_ = 'postmaindescr')\n",
    "    try:\n",
    "        d['description'] = postmain.find('p').text.replace('\\r','').replace('\\t','').replace('\\n','').strip()\n",
    "    except:\n",
    "        pass\n",
    "    try:\n",
    "        d['keywords'] = postmain.find('li').text.split(':')[1].replace('\\r','').replace('\\t','').replace('\\n','').strip()\n",
    "    except:\n",
    "        pass\n",
    "    \n",
    "    return list(d.values())"
   ]
  },
  {
   "cell_type": "code",
   "execution_count": 21,
   "id": "49e3b4b2",
   "metadata": {},
   "outputs": [
    {
     "name": "stdout",
     "output_type": "stream",
     "text": [
      "Griselda (2024)\n",
      "Lucifer (2016)\n",
      "The Crown (2016)\n",
      "History 101 (2020)\n",
      "Longmire (2012)\n",
      "Chelsea (2016)\n",
      "Firefly Lane (2021)\n",
      "Dawn of the Croods (2015)\n",
      "All of Us Are Dead (2022)\n",
      "DOTA: Dragon's Blood (2021)\n",
      "My Dad the Bounty Hunter (2023)\n",
      "The Lincoln Lawyer (2022)\n",
      "BoJack Horseman (2014)\n",
      "Turbo FAST (2013)\n",
      "Travelers (2016)\n",
      "Atypical (2017)\n",
      "Space Force (2020)\n",
      "GLOW (2017)\n",
      "Explained (2018)\n",
      "Love, Death & Robots (2019)\n"
     ]
    }
   ],
   "source": [
    "tv_columns = ['title', 'stock', 'genre', 'creator', 'first air date', 'last air date', 'total seasons', 'total episodes', 'status', 'episode runtime', 'production company', 'production country', 'networks','image path','description','keywords']\n",
    "df = pd.DataFrame(columns = tv_columns)\n",
    "\n",
    "for i,link in enumerate(links['link'],start = 0):\n",
    "    df.loc[i] = get_data(link)z"
   ]
  },
  {
   "cell_type": "code",
   "execution_count": 22,
   "id": "763f0c11",
   "metadata": {
    "scrolled": false
   },
   "outputs": [
    {
     "data": {
      "text/html": [
       "<div>\n",
       "<style scoped>\n",
       "    .dataframe tbody tr th:only-of-type {\n",
       "        vertical-align: middle;\n",
       "    }\n",
       "\n",
       "    .dataframe tbody tr th {\n",
       "        vertical-align: top;\n",
       "    }\n",
       "\n",
       "    .dataframe thead th {\n",
       "        text-align: right;\n",
       "    }\n",
       "</style>\n",
       "<table border=\"1\" class=\"dataframe\">\n",
       "  <thead>\n",
       "    <tr style=\"text-align: right;\">\n",
       "      <th></th>\n",
       "      <th>title</th>\n",
       "      <th>stock</th>\n",
       "      <th>genre</th>\n",
       "      <th>creator</th>\n",
       "      <th>first air date</th>\n",
       "      <th>last air date</th>\n",
       "      <th>total seasons</th>\n",
       "      <th>total episodes</th>\n",
       "      <th>status</th>\n",
       "      <th>episode runtime</th>\n",
       "      <th>production company</th>\n",
       "      <th>production country</th>\n",
       "      <th>networks</th>\n",
       "      <th>image path</th>\n",
       "      <th>description</th>\n",
       "      <th>keywords</th>\n",
       "    </tr>\n",
       "  </thead>\n",
       "  <tbody>\n",
       "    <tr>\n",
       "      <th>0</th>\n",
       "      <td>Griselda (2024)</td>\n",
       "      <td>A woman of substance.</td>\n",
       "      <td>Drama, Crime</td>\n",
       "      <td>Eric Newman, Doug Miro, Carlo Bernard, Ingrid ...</td>\n",
       "      <td>2024-01-25</td>\n",
       "      <td>unknown</td>\n",
       "      <td>1</td>\n",
       "      <td>6</td>\n",
       "      <td>Returning Series</td>\n",
       "      <td>unknown</td>\n",
       "      <td>Latin World Entertainment</td>\n",
       "      <td>United States of America</td>\n",
       "      <td>Netflix</td>\n",
       "      <td>https://image.tmdb.org/t/p/w185/nhEtK1lJKb3kqB...</td>\n",
       "      <td>Chronicles the life of Griselda Blanco, who cr...</td>\n",
       "      <td>miniseries, cartel</td>\n",
       "    </tr>\n",
       "    <tr>\n",
       "      <th>1</th>\n",
       "      <td>Lucifer (2016)</td>\n",
       "      <td>It's good to be bad.</td>\n",
       "      <td>Crime, Sci-Fi &amp; Fantasy</td>\n",
       "      <td>Tom Kapinos</td>\n",
       "      <td>2016-01-25</td>\n",
       "      <td>2021-09-10</td>\n",
       "      <td>6</td>\n",
       "      <td>93</td>\n",
       "      <td>Ended</td>\n",
       "      <td>45 min.</td>\n",
       "      <td>Warner Bros. Television</td>\n",
       "      <td>United States of America</td>\n",
       "      <td>FOX, Netflix</td>\n",
       "      <td>https://image.tmdb.org/t/p/w185/ekZobS8isE6mA5...</td>\n",
       "      <td>Bored and unhappy as the Lord of Hell, Lucifer...</td>\n",
       "      <td>based on comic, los angeles, california, devil...</td>\n",
       "    </tr>\n",
       "    <tr>\n",
       "      <th>2</th>\n",
       "      <td>The Crown (2016)</td>\n",
       "      <td>Duty lasts a lifetime.</td>\n",
       "      <td>Drama</td>\n",
       "      <td>Peter Morgan</td>\n",
       "      <td>2016-11-04</td>\n",
       "      <td>2023-12-14</td>\n",
       "      <td>6</td>\n",
       "      <td>60</td>\n",
       "      <td>Ended</td>\n",
       "      <td>unknown</td>\n",
       "      <td>Left Bank Pictures</td>\n",
       "      <td>United Kingdom, United States of America</td>\n",
       "      <td>Netflix</td>\n",
       "      <td>https://image.tmdb.org/t/p/w185/1DDE0Z2Y805rqf...</td>\n",
       "      <td>The gripping, decades-spanning inside story of...</td>\n",
       "      <td>england, dynasty, royal family, royalty, based...</td>\n",
       "    </tr>\n",
       "    <tr>\n",
       "      <th>3</th>\n",
       "      <td>History 101 (2020)</td>\n",
       "      <td>unknown</td>\n",
       "      <td>Documentary</td>\n",
       "      <td>unknown</td>\n",
       "      <td>2020-05-22</td>\n",
       "      <td>2022-08-25</td>\n",
       "      <td>2</td>\n",
       "      <td>20</td>\n",
       "      <td>Returning Series</td>\n",
       "      <td>22 min.</td>\n",
       "      <td>ITN Productions</td>\n",
       "      <td>United Kingdom</td>\n",
       "      <td>Netflix</td>\n",
       "      <td>https://image.tmdb.org/t/p/w185/3wY1EwinwrtpNZ...</td>\n",
       "      <td>Infographics and archival footage deliver bite...</td>\n",
       "      <td>social &amp; cultural documentary</td>\n",
       "    </tr>\n",
       "    <tr>\n",
       "      <th>4</th>\n",
       "      <td>Longmire (2012)</td>\n",
       "      <td>unknown</td>\n",
       "      <td>Western, Crime, Drama</td>\n",
       "      <td>John Coveny, Hunt Baldwin</td>\n",
       "      <td>2012-06-03</td>\n",
       "      <td>2017-11-17</td>\n",
       "      <td>6</td>\n",
       "      <td>63</td>\n",
       "      <td>Ended</td>\n",
       "      <td>45 min.</td>\n",
       "      <td>Two Boomerang</td>\n",
       "      <td>United States of America</td>\n",
       "      <td>A&amp;E, Netflix</td>\n",
       "      <td>https://image.tmdb.org/t/p/w185/yrdt5lscyJ5j5G...</td>\n",
       "      <td>A Wyoming sheriff rebuilds his life and career...</td>\n",
       "      <td>wyoming, usa, small town, small town sheriff</td>\n",
       "    </tr>\n",
       "  </tbody>\n",
       "</table>\n",
       "</div>"
      ],
      "text/plain": [
       "                title                   stock                    genre  \\\n",
       "0     Griselda (2024)   A woman of substance.             Drama, Crime   \n",
       "1      Lucifer (2016)    It's good to be bad.  Crime, Sci-Fi & Fantasy   \n",
       "2    The Crown (2016)  Duty lasts a lifetime.                    Drama   \n",
       "3  History 101 (2020)                 unknown              Documentary   \n",
       "4     Longmire (2012)                 unknown    Western, Crime, Drama   \n",
       "\n",
       "                                             creator first air date  \\\n",
       "0  Eric Newman, Doug Miro, Carlo Bernard, Ingrid ...     2024-01-25   \n",
       "1                                        Tom Kapinos     2016-01-25   \n",
       "2                                       Peter Morgan     2016-11-04   \n",
       "3                                            unknown     2020-05-22   \n",
       "4                          John Coveny, Hunt Baldwin     2012-06-03   \n",
       "\n",
       "  last air date total seasons total episodes            status  \\\n",
       "0       unknown             1              6  Returning Series   \n",
       "1    2021-09-10             6             93             Ended   \n",
       "2    2023-12-14             6             60             Ended   \n",
       "3    2022-08-25             2             20  Returning Series   \n",
       "4    2017-11-17             6             63             Ended   \n",
       "\n",
       "  episode runtime         production company  \\\n",
       "0         unknown  Latin World Entertainment   \n",
       "1         45 min.    Warner Bros. Television   \n",
       "2         unknown         Left Bank Pictures   \n",
       "3         22 min.            ITN Productions   \n",
       "4         45 min.              Two Boomerang   \n",
       "\n",
       "                         production country      networks  \\\n",
       "0                  United States of America       Netflix   \n",
       "1                  United States of America  FOX, Netflix   \n",
       "2  United Kingdom, United States of America       Netflix   \n",
       "3                            United Kingdom       Netflix   \n",
       "4                  United States of America  A&E, Netflix   \n",
       "\n",
       "                                          image path  \\\n",
       "0  https://image.tmdb.org/t/p/w185/nhEtK1lJKb3kqB...   \n",
       "1  https://image.tmdb.org/t/p/w185/ekZobS8isE6mA5...   \n",
       "2  https://image.tmdb.org/t/p/w185/1DDE0Z2Y805rqf...   \n",
       "3  https://image.tmdb.org/t/p/w185/3wY1EwinwrtpNZ...   \n",
       "4  https://image.tmdb.org/t/p/w185/yrdt5lscyJ5j5G...   \n",
       "\n",
       "                                         description  \\\n",
       "0  Chronicles the life of Griselda Blanco, who cr...   \n",
       "1  Bored and unhappy as the Lord of Hell, Lucifer...   \n",
       "2  The gripping, decades-spanning inside story of...   \n",
       "3  Infographics and archival footage deliver bite...   \n",
       "4  A Wyoming sheriff rebuilds his life and career...   \n",
       "\n",
       "                                            keywords  \n",
       "0                                 miniseries, cartel  \n",
       "1  based on comic, los angeles, california, devil...  \n",
       "2  england, dynasty, royal family, royalty, based...  \n",
       "3                      social & cultural documentary  \n",
       "4       wyoming, usa, small town, small town sheriff  "
      ]
     },
     "execution_count": 22,
     "metadata": {},
     "output_type": "execute_result"
    }
   ],
   "source": [
    "df.head()"
   ]
  },
  {
   "cell_type": "code",
   "execution_count": 23,
   "id": "f3e220b3",
   "metadata": {},
   "outputs": [],
   "source": [
    "#datayı kaydetme\n",
    "#df.to_csv('data.csv',index=False)"
   ]
  },
  {
   "cell_type": "code",
   "execution_count": 24,
   "id": "32c89ee9",
   "metadata": {},
   "outputs": [],
   "source": [
    "#copy = df.copy()"
   ]
  },
  {
   "cell_type": "markdown",
   "id": "71ba5b78",
   "metadata": {},
   "source": [
    "## Verileri İnceleme (Buradan Aşağısı)"
   ]
  },
  {
   "cell_type": "code",
   "execution_count": 1,
   "id": "52ddc7e0",
   "metadata": {},
   "outputs": [],
   "source": [
    "#pip install number-names"
   ]
  },
  {
   "cell_type": "code",
   "execution_count": 1,
   "id": "ae44ab48",
   "metadata": {},
   "outputs": [],
   "source": [
    "import pandas as pd"
   ]
  },
  {
   "cell_type": "code",
   "execution_count": 2,
   "id": "538bcf0b",
   "metadata": {},
   "outputs": [],
   "source": [
    "import number_names as nn\n",
    "import datetime as dt\n",
    "from dateutil.relativedelta import relativedelta"
   ]
  },
  {
   "cell_type": "code",
   "execution_count": 3,
   "id": "404a1fa9",
   "metadata": {},
   "outputs": [],
   "source": [
    "data = pd.read_csv('data.csv')\n",
    "df = data.copy()"
   ]
  },
  {
   "cell_type": "code",
   "execution_count": 4,
   "id": "8f87ced0",
   "metadata": {},
   "outputs": [],
   "source": [
    "data['title'] = data['title'].apply(lambda x: x[:-7].lower())\n",
    "data['title'] = data['title'].apply(str.lower)"
   ]
  },
  {
   "cell_type": "code",
   "execution_count": 5,
   "id": "84906124",
   "metadata": {
    "scrolled": true
   },
   "outputs": [
    {
     "data": {
      "text/plain": [
       "title                 0\n",
       "stock                 0\n",
       "genre                 0\n",
       "creator               0\n",
       "first air date        0\n",
       "last air date         0\n",
       "total seasons         0\n",
       "total episodes        0\n",
       "status                0\n",
       "episode runtime       0\n",
       "production company    0\n",
       "production country    0\n",
       "networks              0\n",
       "image path            0\n",
       "description           0\n",
       "keywords              0\n",
       "dtype: int64"
      ]
     },
     "execution_count": 5,
     "metadata": {},
     "output_type": "execute_result"
    }
   ],
   "source": [
    "df.isnull().sum()"
   ]
  },
  {
   "cell_type": "code",
   "execution_count": 6,
   "id": "4629e2dd",
   "metadata": {},
   "outputs": [
    {
     "name": "stdout",
     "output_type": "stream",
     "text": [
      "<class 'pandas.core.frame.DataFrame'>\n",
      "RangeIndex: 40 entries, 0 to 39\n",
      "Data columns (total 16 columns):\n",
      " #   Column              Non-Null Count  Dtype \n",
      "---  ------              --------------  ----- \n",
      " 0   title               40 non-null     object\n",
      " 1   stock               40 non-null     object\n",
      " 2   genre               40 non-null     object\n",
      " 3   creator             40 non-null     object\n",
      " 4   first air date      40 non-null     object\n",
      " 5   last air date       40 non-null     object\n",
      " 6   total seasons       40 non-null     int64 \n",
      " 7   total episodes      40 non-null     int64 \n",
      " 8   status              40 non-null     object\n",
      " 9   episode runtime     40 non-null     object\n",
      " 10  production company  40 non-null     object\n",
      " 11  production country  40 non-null     object\n",
      " 12  networks            40 non-null     object\n",
      " 13  image path          40 non-null     object\n",
      " 14  description         40 non-null     object\n",
      " 15  keywords            40 non-null     object\n",
      "dtypes: int64(2), object(14)\n",
      "memory usage: 5.1+ KB\n"
     ]
    }
   ],
   "source": [
    "df.info()"
   ]
  },
  {
   "cell_type": "code",
   "execution_count": 7,
   "id": "388691fd",
   "metadata": {},
   "outputs": [
    {
     "data": {
      "text/html": [
       "<div>\n",
       "<style scoped>\n",
       "    .dataframe tbody tr th:only-of-type {\n",
       "        vertical-align: middle;\n",
       "    }\n",
       "\n",
       "    .dataframe tbody tr th {\n",
       "        vertical-align: top;\n",
       "    }\n",
       "\n",
       "    .dataframe thead th {\n",
       "        text-align: right;\n",
       "    }\n",
       "</style>\n",
       "<table border=\"1\" class=\"dataframe\">\n",
       "  <thead>\n",
       "    <tr style=\"text-align: right;\">\n",
       "      <th></th>\n",
       "      <th>count</th>\n",
       "      <th>mean</th>\n",
       "      <th>std</th>\n",
       "      <th>min</th>\n",
       "      <th>25%</th>\n",
       "      <th>50%</th>\n",
       "      <th>75%</th>\n",
       "      <th>max</th>\n",
       "    </tr>\n",
       "  </thead>\n",
       "  <tbody>\n",
       "    <tr>\n",
       "      <th>total seasons</th>\n",
       "      <td>40.0</td>\n",
       "      <td>3.875</td>\n",
       "      <td>1.869972</td>\n",
       "      <td>1.0</td>\n",
       "      <td>2.75</td>\n",
       "      <td>3.5</td>\n",
       "      <td>6.0</td>\n",
       "      <td>7.0</td>\n",
       "    </tr>\n",
       "    <tr>\n",
       "      <th>total episodes</th>\n",
       "      <td>40.0</td>\n",
       "      <td>47.375</td>\n",
       "      <td>30.498161</td>\n",
       "      <td>8.0</td>\n",
       "      <td>24.75</td>\n",
       "      <td>39.0</td>\n",
       "      <td>63.5</td>\n",
       "      <td>133.0</td>\n",
       "    </tr>\n",
       "  </tbody>\n",
       "</table>\n",
       "</div>"
      ],
      "text/plain": [
       "                count    mean        std  min    25%   50%   75%    max\n",
       "total seasons    40.0   3.875   1.869972  1.0   2.75   3.5   6.0    7.0\n",
       "total episodes   40.0  47.375  30.498161  8.0  24.75  39.0  63.5  133.0"
      ]
     },
     "execution_count": 7,
     "metadata": {},
     "output_type": "execute_result"
    }
   ],
   "source": [
    "df.describe().T"
   ]
  },
  {
   "cell_type": "markdown",
   "id": "ae1b08c8",
   "metadata": {},
   "source": [
    "## Verileri Düzenleme"
   ]
  },
  {
   "cell_type": "code",
   "execution_count": 8,
   "id": "5cd1ce0a",
   "metadata": {},
   "outputs": [
    {
     "data": {
      "text/html": [
       "<div>\n",
       "<style scoped>\n",
       "    .dataframe tbody tr th:only-of-type {\n",
       "        vertical-align: middle;\n",
       "    }\n",
       "\n",
       "    .dataframe tbody tr th {\n",
       "        vertical-align: top;\n",
       "    }\n",
       "\n",
       "    .dataframe thead th {\n",
       "        text-align: right;\n",
       "    }\n",
       "</style>\n",
       "<table border=\"1\" class=\"dataframe\">\n",
       "  <thead>\n",
       "    <tr style=\"text-align: right;\">\n",
       "      <th></th>\n",
       "      <th>title</th>\n",
       "      <th>stock</th>\n",
       "      <th>genre</th>\n",
       "      <th>creator</th>\n",
       "      <th>first air date</th>\n",
       "      <th>last air date</th>\n",
       "      <th>total seasons</th>\n",
       "      <th>total episodes</th>\n",
       "      <th>status</th>\n",
       "      <th>episode runtime</th>\n",
       "      <th>production company</th>\n",
       "      <th>production country</th>\n",
       "      <th>networks</th>\n",
       "      <th>image path</th>\n",
       "      <th>description</th>\n",
       "      <th>keywords</th>\n",
       "    </tr>\n",
       "  </thead>\n",
       "  <tbody>\n",
       "    <tr>\n",
       "      <th>0</th>\n",
       "      <td>Lucifer (2016)</td>\n",
       "      <td>It's good to be bad.</td>\n",
       "      <td>Crime, Sci-Fi &amp; Fantasy</td>\n",
       "      <td>Tom Kapinos</td>\n",
       "      <td>2016-01-25</td>\n",
       "      <td>2021-09-10</td>\n",
       "      <td>6</td>\n",
       "      <td>93</td>\n",
       "      <td>Ended</td>\n",
       "      <td>45 min.</td>\n",
       "      <td>Warner Bros. Television</td>\n",
       "      <td>United States of America</td>\n",
       "      <td>FOX, Netflix</td>\n",
       "      <td>https://image.tmdb.org/t/p/w185/ekZobS8isE6mA5...</td>\n",
       "      <td>Bored and unhappy as the Lord of Hell, Lucifer...</td>\n",
       "      <td>based on comic, los angeles, california, devil...</td>\n",
       "    </tr>\n",
       "    <tr>\n",
       "      <th>1</th>\n",
       "      <td>BoJack Horseman (2014)</td>\n",
       "      <td>Don't look back. You're not going that way.</td>\n",
       "      <td>Animation, Comedy, Drama</td>\n",
       "      <td>Raphael Bob-Waksberg</td>\n",
       "      <td>2014-08-22</td>\n",
       "      <td>2020-01-31</td>\n",
       "      <td>6</td>\n",
       "      <td>76</td>\n",
       "      <td>Ended</td>\n",
       "      <td>25 min.</td>\n",
       "      <td>Tornante Company</td>\n",
       "      <td>United States of America</td>\n",
       "      <td>Netflix</td>\n",
       "      <td>https://image.tmdb.org/t/p/w185/6JFWzlChcGgLiI...</td>\n",
       "      <td>Meet the most beloved sitcom horse of the 90s ...</td>\n",
       "      <td>depression, drug abuse, nihilism, show busines...</td>\n",
       "    </tr>\n",
       "  </tbody>\n",
       "</table>\n",
       "</div>"
      ],
      "text/plain": [
       "                    title                                        stock  \\\n",
       "0          Lucifer (2016)                         It's good to be bad.   \n",
       "1  BoJack Horseman (2014)  Don't look back. You're not going that way.   \n",
       "\n",
       "                      genre               creator first air date  \\\n",
       "0   Crime, Sci-Fi & Fantasy           Tom Kapinos     2016-01-25   \n",
       "1  Animation, Comedy, Drama  Raphael Bob-Waksberg     2014-08-22   \n",
       "\n",
       "  last air date  total seasons  total episodes status episode runtime  \\\n",
       "0    2021-09-10              6              93  Ended         45 min.   \n",
       "1    2020-01-31              6              76  Ended         25 min.   \n",
       "\n",
       "        production company        production country      networks  \\\n",
       "0  Warner Bros. Television  United States of America  FOX, Netflix   \n",
       "1         Tornante Company  United States of America       Netflix   \n",
       "\n",
       "                                          image path  \\\n",
       "0  https://image.tmdb.org/t/p/w185/ekZobS8isE6mA5...   \n",
       "1  https://image.tmdb.org/t/p/w185/6JFWzlChcGgLiI...   \n",
       "\n",
       "                                         description  \\\n",
       "0  Bored and unhappy as the Lord of Hell, Lucifer...   \n",
       "1  Meet the most beloved sitcom horse of the 90s ...   \n",
       "\n",
       "                                            keywords  \n",
       "0  based on comic, los angeles, california, devil...  \n",
       "1  depression, drug abuse, nihilism, show busines...  "
      ]
     },
     "execution_count": 8,
     "metadata": {},
     "output_type": "execute_result"
    }
   ],
   "source": [
    "df.head(2)"
   ]
  },
  {
   "cell_type": "markdown",
   "id": "8735c53d",
   "metadata": {},
   "source": [
    "### Tarih olan kolonların formatını tarih yapma\n",
    "\n",
    "- last air date için now değerinin koymamızın nedeni unknown olan yerlere, unknown değerini tarihe çevirememsi yüzündendir."
   ]
  },
  {
   "cell_type": "code",
   "execution_count": 9,
   "id": "1635321f",
   "metadata": {},
   "outputs": [],
   "source": [
    "now = str(dt.datetime.now().year)+'-'+str(dt.datetime.now().month)+'-'+str(dt.datetime.now().day)"
   ]
  },
  {
   "cell_type": "code",
   "execution_count": 10,
   "id": "38cea06b",
   "metadata": {},
   "outputs": [],
   "source": [
    "df['first air date'] = pd.to_datetime(df['first air date'])"
   ]
  },
  {
   "cell_type": "code",
   "execution_count": 11,
   "id": "cc4dafdb",
   "metadata": {},
   "outputs": [],
   "source": [
    "df['last air date'] = df['last air date'].apply(lambda x: now if x == 'unknown' else x)\n",
    "df['last air date'] = pd.to_datetime(df['last air date'])"
   ]
  },
  {
   "cell_type": "markdown",
   "id": "cb7ffa2b",
   "metadata": {},
   "source": [
    "### Dizi kaç yıl sürmüş onu bulma"
   ]
  },
  {
   "cell_type": "code",
   "execution_count": 12,
   "id": "9e50c993",
   "metadata": {},
   "outputs": [],
   "source": [
    "def find_longest(end_date, start_date):\n",
    "    year = relativedelta(end_date, start_date).years\n",
    "    return nn.integer_name(year) + \" years\""
   ]
  },
  {
   "cell_type": "code",
   "execution_count": 13,
   "id": "132d5fce",
   "metadata": {},
   "outputs": [],
   "source": [
    "df['longest by year'] = df.apply(lambda x: find_longest(x['last air date'],x['first air date']),axis = 1)"
   ]
  },
  {
   "cell_type": "markdown",
   "id": "f9192fb1",
   "metadata": {},
   "source": [
    "## Dizinin başlangıç tarihine göre eski mi yeni mi?"
   ]
  },
  {
   "cell_type": "code",
   "execution_count": 14,
   "id": "e16e3db5",
   "metadata": {},
   "outputs": [],
   "source": [
    "def old_or_new(x):\n",
    "    x = x.year\n",
    "    if x>= 2023: return 'very new'\n",
    "    elif x>=2020: return 'new'\n",
    "    elif x>=2010: return 'enough'\n",
    "    elif x>=2000: return 'old'\n",
    "    return 'too old'"
   ]
  },
  {
   "cell_type": "code",
   "execution_count": 15,
   "id": "84dc3ab3",
   "metadata": {},
   "outputs": [],
   "source": [
    "df['old or new flag'] = df['first air date'].apply(old_or_new)"
   ]
  },
  {
   "cell_type": "markdown",
   "id": "e7457162",
   "metadata": {},
   "source": [
    "### Sezon Sayısı"
   ]
  },
  {
   "cell_type": "code",
   "execution_count": 16,
   "id": "b750eb37",
   "metadata": {},
   "outputs": [],
   "source": [
    "def season(x):\n",
    "    return nn.integer_name(x) + ' seasons'"
   ]
  },
  {
   "cell_type": "code",
   "execution_count": 17,
   "id": "9f44feaa",
   "metadata": {},
   "outputs": [],
   "source": [
    "df['season'] = df['total seasons'].apply(season)"
   ]
  },
  {
   "cell_type": "markdown",
   "id": "63de3be4",
   "metadata": {},
   "source": [
    "### Bölüm Sayısı"
   ]
  },
  {
   "cell_type": "code",
   "execution_count": 18,
   "id": "aef60b21",
   "metadata": {},
   "outputs": [],
   "source": [
    "def episodes(x):\n",
    "    return nn.integer_name(x) + \" episodes\""
   ]
  },
  {
   "cell_type": "code",
   "execution_count": 19,
   "id": "31f54298",
   "metadata": {},
   "outputs": [],
   "source": [
    "df['episodes'] = df['total episodes'].apply(episodes)"
   ]
  },
  {
   "cell_type": "markdown",
   "id": "e169f341",
   "metadata": {},
   "source": [
    "### Bölüm Başı Süre"
   ]
  },
  {
   "cell_type": "code",
   "execution_count": 20,
   "id": "5e9f685c",
   "metadata": {},
   "outputs": [],
   "source": [
    "def episode_runtime(x):\n",
    "    if x != 'unknown':\n",
    "        return nn.integer_name(int(x.split(' ')[0])) + \" min.\"\n",
    "    return x    "
   ]
  },
  {
   "cell_type": "code",
   "execution_count": 21,
   "id": "e212e620",
   "metadata": {},
   "outputs": [],
   "source": [
    "df['runtime'] = df['episode runtime'].apply(episode_runtime)"
   ]
  },
  {
   "cell_type": "markdown",
   "id": "f52a4fe1",
   "metadata": {},
   "source": [
    "### Gereksiz Kolonları Çıkartıyorum"
   ]
  },
  {
   "cell_type": "code",
   "execution_count": 22,
   "id": "fab2c350",
   "metadata": {},
   "outputs": [],
   "source": [
    "df = df.drop(['first air date','last air date','total seasons','total episodes','episode runtime','description'],axis = 1)"
   ]
  },
  {
   "cell_type": "markdown",
   "id": "a28cf04a",
   "metadata": {},
   "source": [
    "### Başlık Kolonunda Parantez İçinde Yazan Yılları Çıkartıyorum"
   ]
  },
  {
   "cell_type": "code",
   "execution_count": 23,
   "id": "24b12eab",
   "metadata": {},
   "outputs": [],
   "source": [
    "df['title'] = df['title'].apply(lambda x: x[:-7])"
   ]
  },
  {
   "cell_type": "code",
   "execution_count": 24,
   "id": "f8612625",
   "metadata": {},
   "outputs": [
    {
     "name": "stdout",
     "output_type": "stream",
     "text": [
      "<class 'pandas.core.frame.DataFrame'>\n",
      "RangeIndex: 40 entries, 0 to 39\n",
      "Data columns (total 15 columns):\n",
      " #   Column              Non-Null Count  Dtype \n",
      "---  ------              --------------  ----- \n",
      " 0   title               40 non-null     object\n",
      " 1   stock               40 non-null     object\n",
      " 2   genre               40 non-null     object\n",
      " 3   creator             40 non-null     object\n",
      " 4   status              40 non-null     object\n",
      " 5   production company  40 non-null     object\n",
      " 6   production country  40 non-null     object\n",
      " 7   networks            40 non-null     object\n",
      " 8   image path          40 non-null     object\n",
      " 9   keywords            40 non-null     object\n",
      " 10  longest by year     40 non-null     object\n",
      " 11  old or new flag     40 non-null     object\n",
      " 12  season              40 non-null     object\n",
      " 13  episodes            40 non-null     object\n",
      " 14  runtime             40 non-null     object\n",
      "dtypes: object(15)\n",
      "memory usage: 4.8+ KB\n"
     ]
    }
   ],
   "source": [
    "df.info()"
   ]
  },
  {
   "cell_type": "markdown",
   "id": "53f983e8",
   "metadata": {},
   "source": [
    "### Kolonlarda 'unknown' Yazan Değerleri Siliyorum"
   ]
  },
  {
   "cell_type": "code",
   "execution_count": 25,
   "id": "4cb29cae",
   "metadata": {},
   "outputs": [],
   "source": [
    "for col in df.columns:\n",
    "    df[col] = df[col].apply(lambda x: x.replace('unknown',''))"
   ]
  },
  {
   "cell_type": "markdown",
   "id": "bb75bbed",
   "metadata": {},
   "source": [
    "### Tag Kolonunu Tanımlıyorum ve Her bir satırı birleştirerek içine atıyorum"
   ]
  },
  {
   "cell_type": "code",
   "execution_count": 26,
   "id": "ea918afd",
   "metadata": {},
   "outputs": [],
   "source": [
    "df['tag'] = ' '"
   ]
  },
  {
   "cell_type": "code",
   "execution_count": 27,
   "id": "c255fc97",
   "metadata": {
    "scrolled": false
   },
   "outputs": [],
   "source": [
    "for i in range(0,len(df)):\n",
    "    df['tag'].iloc[i] = ' '.join(df.iloc[i][1:].values)"
   ]
  },
  {
   "cell_type": "code",
   "execution_count": 28,
   "id": "3ca8ff16",
   "metadata": {},
   "outputs": [
    {
     "data": {
      "text/plain": [
       "\"It's good to be bad. Crime, Sci-Fi & Fantasy Tom Kapinos Ended Warner Bros. Television United States of America FOX, Netflix https://image.tmdb.org/t/p/w185/ekZobS8isE6mA53RAiGDG93hBxL.jpg based on comic, los angeles, california, devil, lapd five years enough six seasons ninety three episodes forty five min.  \""
      ]
     },
     "execution_count": 28,
     "metadata": {},
     "output_type": "execute_result"
    }
   ],
   "source": [
    "df['tag'].iloc[0]"
   ]
  },
  {
   "cell_type": "markdown",
   "id": "8fb1dc7a",
   "metadata": {},
   "source": [
    "### nlp"
   ]
  },
  {
   "cell_type": "code",
   "execution_count": 29,
   "id": "b970423e",
   "metadata": {},
   "outputs": [],
   "source": [
    "import re\n",
    "import nltk\n",
    "from nltk.stem.porter import PorterStemmer\n",
    "from nltk.corpus import stopwords\n",
    "from sklearn.feature_extraction.text import CountVectorizer\n",
    "from sklearn.metrics.pairwise import cosine_similarity"
   ]
  },
  {
   "cell_type": "markdown",
   "id": "c333b73b",
   "metadata": {},
   "source": [
    "### Cleaning Text"
   ]
  },
  {
   "cell_type": "code",
   "execution_count": 30,
   "id": "ef7e516f",
   "metadata": {
    "scrolled": true
   },
   "outputs": [
    {
     "name": "stderr",
     "output_type": "stream",
     "text": [
      "[nltk_data] Downloading package stopwords to\n",
      "[nltk_data]     C:\\Users\\brhnd\\AppData\\Roaming\\nltk_data...\n",
      "[nltk_data]   Package stopwords is already up-to-date!\n"
     ]
    },
    {
     "data": {
      "text/plain": [
       "True"
      ]
     },
     "execution_count": 30,
     "metadata": {},
     "output_type": "execute_result"
    }
   ],
   "source": [
    "nltk.download('stopwords')"
   ]
  },
  {
   "cell_type": "code",
   "execution_count": 31,
   "id": "c907f594",
   "metadata": {},
   "outputs": [],
   "source": [
    "all_stopwords = stopwords.words('english')\n",
    "all_stopwords.remove('not')\n",
    "ps = PorterStemmer()"
   ]
  },
  {
   "cell_type": "code",
   "execution_count": 32,
   "id": "bbd5c549",
   "metadata": {},
   "outputs": [],
   "source": [
    "for i in range(0,len(df)):\n",
    "    # values that are not letters have been removed from review of i\n",
    "    review = re.sub('[^a-zA-Z]',' ',df['tag'][i])\n",
    "    \n",
    "    review = review.lower()\n",
    "    \n",
    "    # converting to list\n",
    "    review = review.split()\n",
    "    \n",
    "    # check each word in review of i, subtract the stopwords and get the root of the rest of the words\n",
    "    review = [ps.stem(word) for word in review if not word in set(all_stopwords)] \n",
    "    \n",
    "    # converting to string and append the corpus list\n",
    "    review = ' '.join(review)\n",
    "    df['tag'][i] = review"
   ]
  },
  {
   "cell_type": "code",
   "execution_count": 33,
   "id": "a9974499",
   "metadata": {},
   "outputs": [
    {
     "data": {
      "text/plain": [
       "'good bad crime sci fi fantasi tom kapino end warner bro televis unit state america fox netflix http imag tmdb org p w ekzob ise raigdg hbxl jpg base comic lo angel california devil lapd five year enough six season nineti three episod forti five min'"
      ]
     },
     "execution_count": 33,
     "metadata": {},
     "output_type": "execute_result"
    }
   ],
   "source": [
    "df['tag'].iloc[0]"
   ]
  },
  {
   "cell_type": "markdown",
   "id": "e705b82f",
   "metadata": {},
   "source": [
    "### Calculate Similarity"
   ]
  },
  {
   "cell_type": "code",
   "execution_count": 34,
   "id": "a0ac0d2e",
   "metadata": {},
   "outputs": [],
   "source": [
    "movies = df[['title','image path','tag']].copy()\n",
    "movies.title = movies.title.apply((lambda x: x.lower()))"
   ]
  },
  {
   "cell_type": "code",
   "execution_count": 35,
   "id": "df7591b2",
   "metadata": {},
   "outputs": [],
   "source": [
    "cv = CountVectorizer(max_features=movies.title.nunique(),stop_words='english')\n",
    "vector = cv.fit_transform(movies.tag).toarray()"
   ]
  },
  {
   "cell_type": "code",
   "execution_count": 36,
   "id": "4a3f7b29",
   "metadata": {},
   "outputs": [],
   "source": [
    "similarity = cosine_similarity(vector)"
   ]
  },
  {
   "cell_type": "markdown",
   "id": "90fcd108",
   "metadata": {},
   "source": [
    "## UI Libraries"
   ]
  },
  {
   "cell_type": "code",
   "execution_count": 37,
   "id": "e4243fe2",
   "metadata": {},
   "outputs": [],
   "source": [
    "import sys\n",
    "from PyQt5 import QtWidgets\n",
    "from PyQt5.QtWidgets import *\n",
    "from ui import *\n",
    "from PyQt5.uic import loadUi\n",
    "from PyQt5.QtGui import QPixmap,QIntValidator,QImage\n",
    "from PyQt5 import QtCore\n",
    "\n",
    "import requests"
   ]
  },
  {
   "cell_type": "markdown",
   "id": "07aee143",
   "metadata": {},
   "source": [
    "## UI Functions"
   ]
  },
  {
   "cell_type": "code",
   "execution_count": 38,
   "id": "50ac0aa1",
   "metadata": {},
   "outputs": [],
   "source": [
    "def display_message(title,message):\n",
    "        msg = QMessageBox()\n",
    "        msg.resize(400,400)\n",
    "        msg.setWindowTitle(title)\n",
    "        msg.setText(message)\n",
    "        msg.setIcon(QMessageBox.Information)\n",
    "        msg.setStandardButtons(QMessageBox.Ok)\n",
    "        msg.exec_()"
   ]
  },
  {
   "cell_type": "code",
   "execution_count": 39,
   "id": "5a6659c3",
   "metadata": {},
   "outputs": [],
   "source": [
    "def check_infos():\n",
    "    global i,distances\n",
    "    i = 0\n",
    "    distances = []\n",
    "    \n",
    "    title = ui.leName.text().lower()\n",
    "\n",
    "    if title != '':            \n",
    "        if len(data[data['title'] == title]) == 0:\n",
    "            display_message('Invalid Title!','Entered title does not exist in file.')\n",
    "        else:\n",
    "            recommend()\n",
    "            \n",
    "    else:\n",
    "        display_message('Empty Value Error!','Enter the title.')"
   ]
  },
  {
   "cell_type": "code",
   "execution_count": 40,
   "id": "15364297",
   "metadata": {},
   "outputs": [],
   "source": [
    "def recommend():\n",
    "    global distances,i\n",
    "    \n",
    "    index = data[data.title== ui.leName.text().lower()].index[0]\n",
    "    \n",
    "    distances = sorted(list(enumerate(similarity[index])),reverse = True,key = lambda x: x[1])\n",
    "    distances = [d for d in distances if d[0] != index and d[1]>=0.70]#minimum benzerlik oranı\n",
    "    \n",
    "    data['similarity'] = similarity[index]\n",
    "    \n",
    "    add_infos()"
   ]
  },
  {
   "cell_type": "code",
   "execution_count": 50,
   "id": "c9aa1d77",
   "metadata": {},
   "outputs": [],
   "source": [
    "def add_infos():\n",
    "    global i,distances\n",
    "    similar_movie = data.iloc[distances[i][0]]\n",
    "    similarity = int(100*round(distances[i][1],2))\n",
    "\n",
    "    # set title info\n",
    "    title = f\"{i+1}/{len(distances)-1}:\\n{similar_movie['title'].title()} (%{similarity})\"\n",
    "    ui.lblTitle.setText(title)\n",
    "    \n",
    "    # set stock info\n",
    "    stock = similar_movie['stock'] if similar_movie['stock'] != 'unknown' else ''\n",
    "    ui.lblStock.setText(stock)\n",
    "    \n",
    "    # set description\n",
    "    ui.teDescription.setText(similar_movie['description'])\n",
    "    \n",
    "    # set general info\n",
    "    info_cols = ['genre', 'creator', 'first air date', 'last air date', 'total seasons','total episodes', 'status', 'episode runtime', 'production company','production country', 'networks']\n",
    "    general_info = ''\n",
    "    for col in info_cols:\n",
    "        general_info += f'{col.title()}: {similar_movie[col]}\\n'\n",
    "    ui.lblInfos.setText(general_info)\n",
    "        \n",
    "    # add image\n",
    "    add_image(similar_movie['image path'])"
   ]
  },
  {
   "cell_type": "code",
   "execution_count": 51,
   "id": "e71722c7",
   "metadata": {},
   "outputs": [],
   "source": [
    "def add_image(image_path):\n",
    "    try:\n",
    "        image = QImage()\n",
    "        image.loadFromData(requests.get(image_path).content)\n",
    "        qpixmap = QPixmap(image)\n",
    "    except:\n",
    "        qpixmap = QPixmap(image_path)\n",
    "    finally:\n",
    "        ui.lblPicture.setPixmap(qpixmap)"
   ]
  },
  {
   "cell_type": "code",
   "execution_count": 43,
   "id": "1648685c",
   "metadata": {},
   "outputs": [],
   "source": [
    "def next_movie():\n",
    "    global i\n",
    "    if i+1<len(distances)-1:\n",
    "        i+=1\n",
    "        add_infos()"
   ]
  },
  {
   "cell_type": "code",
   "execution_count": 44,
   "id": "9d7949d1",
   "metadata": {},
   "outputs": [],
   "source": [
    "def previous_movie():\n",
    "    global i\n",
    "    if i-1 >= 0:\n",
    "        i-=1\n",
    "        add_infos()"
   ]
  },
  {
   "cell_type": "markdown",
   "id": "7b1f4e5c",
   "metadata": {},
   "source": [
    "## UI"
   ]
  },
  {
   "cell_type": "code",
   "execution_count": 45,
   "id": "818af38f",
   "metadata": {},
   "outputs": [],
   "source": [
    "# values\n",
    "ui = Ui_MainWindow()"
   ]
  },
  {
   "cell_type": "code",
   "execution_count": 52,
   "id": "ff5a028c",
   "metadata": {},
   "outputs": [],
   "source": [
    "try:    \n",
    "    if not QApplication.instance():\n",
    "        app = QApplication(sys.argv)\n",
    "    else:\n",
    "        app = QApplication.instance() \n",
    "\n",
    "    i = 0\n",
    "    distances = []\n",
    "    \n",
    "    \n",
    "    window = QMainWindow()\n",
    "    \n",
    "    window.setWindowFlags(QtCore.Qt.WindowMinimizeButtonHint | QtCore.Qt.WindowCloseButtonHint)\n",
    "    window.setFixedSize(1192,640) #ekran büyüklüğünü ayarlama\n",
    "    ui.setupUi(window)\n",
    "\n",
    "    \n",
    "    # btnFindMovie\n",
    "    ui.leName.returnPressed.connect(check_infos)\n",
    "    \n",
    "    # btnNextMovie\n",
    "    ui.btnNextMovie.clicked.connect(next_movie)\n",
    "    \n",
    "    # btnPreviousMovie\n",
    "    ui.btnPreviousMovie.clicked.connect(previous_movie)\n",
    "    \n",
    "    # auto complete\n",
    "    completer = QCompleter(list(data['title'])) \n",
    "    ui.leName.setCompleter(completer)\n",
    "    \n",
    "       \n",
    "    window.show()\n",
    "    QtWidgets.QApplication.setQuitOnLastWindowClosed(True)\n",
    "    app.exec_()\n",
    "    app.quit()\n",
    "except Exception as ex:\n",
    "    print(ex)"
   ]
  },
  {
   "cell_type": "code",
   "execution_count": 47,
   "id": "9e6818dc",
   "metadata": {},
   "outputs": [
    {
     "data": {
      "text/plain": [
       "'After a tragic ending to her short-lived super hero stint, Jessica Jones is rebuilding her personal life and career as a detective who gets pulled into cases involving people with extraordinary abilities in New York City.'"
      ]
     },
     "execution_count": 47,
     "metadata": {},
     "output_type": "execute_result"
    }
   ],
   "source": [
    "data[data.title ==\"marvel's jessica jones\"]['description'][7]"
   ]
  },
  {
   "cell_type": "code",
   "execution_count": 48,
   "id": "73561624",
   "metadata": {},
   "outputs": [
    {
     "name": "stdout",
     "output_type": "stream",
     "text": [
      "Requirement already satisfied: PyQt5 in c:\\users\\brhnd\\anaconda3\\lib\\site-packages (5.15.7)\n",
      "Requirement already satisfied: PyQt5-sip<13,>=12.11 in c:\\users\\brhnd\\anaconda3\\lib\\site-packages (from PyQt5) (12.11.0)\n",
      "Note: you may need to restart the kernel to use updated packages.\n"
     ]
    }
   ],
   "source": [
    "#pip install PyQt5"
   ]
  },
  {
   "cell_type": "code",
   "execution_count": null,
   "id": "5252f72a",
   "metadata": {},
   "outputs": [],
   "source": []
  },
  {
   "cell_type": "code",
   "execution_count": null,
   "id": "ab6e48af",
   "metadata": {},
   "outputs": [],
   "source": []
  }
 ],
 "metadata": {
  "kernelspec": {
   "display_name": "Python 3 (ipykernel)",
   "language": "python",
   "name": "python3"
  },
  "language_info": {
   "codemirror_mode": {
    "name": "ipython",
    "version": 3
   },
   "file_extension": ".py",
   "mimetype": "text/x-python",
   "name": "python",
   "nbconvert_exporter": "python",
   "pygments_lexer": "ipython3",
   "version": "3.11.5"
  }
 },
 "nbformat": 4,
 "nbformat_minor": 5
}
