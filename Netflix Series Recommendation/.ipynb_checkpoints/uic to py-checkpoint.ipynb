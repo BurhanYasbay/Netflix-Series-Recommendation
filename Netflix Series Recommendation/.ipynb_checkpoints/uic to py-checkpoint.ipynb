{
 "cells": [
  {
   "cell_type": "code",
   "execution_count": 1,
   "id": "fe6e6d12",
   "metadata": {},
   "outputs": [],
   "source": [
    "#!pip install aarc-entitlement==1.0.5"
   ]
  },
  {
   "cell_type": "code",
   "execution_count": 2,
   "id": "3d6fc0cc",
   "metadata": {},
   "outputs": [],
   "source": [
    "#!pip install pyuic5-tool"
   ]
  },
  {
   "cell_type": "code",
   "execution_count": 8,
   "id": "ad9a794b",
   "metadata": {},
   "outputs": [],
   "source": [
    "filename = \"C:\\\\Users\\\\samet\\\\OneDrive\\\\Masaüstü\\\\Yeni klasör (2)\\\\movieDesigner.ui\""
   ]
  },
  {
   "cell_type": "code",
   "execution_count": 5,
   "id": "d9ca4d74",
   "metadata": {},
   "outputs": [],
   "source": [
    "from PyQt5 import uic"
   ]
  },
  {
   "cell_type": "code",
   "execution_count": 9,
   "id": "6baa5f86",
   "metadata": {},
   "outputs": [],
   "source": [
    "try:\n",
    "    with open('ui.py','w',encoding='utf-8') as fout:\n",
    "        uic.compileUi(filename,fout)\n",
    "except:\n",
    "    print('Dosya bulunamadı veya kütüphane eklenmedi!')"
   ]
  }
 ],
 "metadata": {
  "kernelspec": {
   "display_name": "Python 3 (ipykernel)",
   "language": "python",
   "name": "python3"
  },
  "language_info": {
   "codemirror_mode": {
    "name": "ipython",
    "version": 3
   },
   "file_extension": ".py",
   "mimetype": "text/x-python",
   "name": "python",
   "nbconvert_exporter": "python",
   "pygments_lexer": "ipython3",
   "version": "3.11.5"
  }
 },
 "nbformat": 4,
 "nbformat_minor": 5
}
